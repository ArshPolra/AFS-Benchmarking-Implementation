{
 "cells": [
  {
   "cell_type": "code",
   "execution_count": 1,
   "id": "737ac588",
   "metadata": {},
   "outputs": [
    {
     "data": {
      "text/latex": [
       "\\[\\tag{${\\it \\%o}_{1}$}{\\it ans}={\\it data}\\]"
      ],
      "text/plain": [
       "(%o1)                             ans = data"
      ],
      "text/x-maxima": [
       "ans = data"
      ]
     },
     "execution_count": 1,
     "metadata": {},
     "output_type": "execute_result"
    }
   ],
   "source": [
    "ans = ratsimp(data);"
   ]
  },
  {
   "cell_type": "code",
   "execution_count": null,
   "id": "bb66fce3",
   "metadata": {},
   "outputs": [],
   "source": []
  }
 ],
 "metadata": {
  "kernelspec": {
   "display_name": "Maxima",
   "language": "maxima",
   "name": "maxima"
  },
  "language_info": {
   "codemirror_mode": "maxima",
   "file_extension": ".mac",
   "mimetype": "text/x-maxima",
   "name": "maxima",
   "pygments_lexer": "maxima",
   "version": "5.45.1"
  }
 },
 "nbformat": 4,
 "nbformat_minor": 5
}
